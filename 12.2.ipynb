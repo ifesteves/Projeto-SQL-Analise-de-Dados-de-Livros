{
 "cells": [
  {
   "cell_type": "markdown",
   "metadata": {},
   "source": [
    "Olá, Isabelle\n",
    "\n",
    "Meu nome é Ramon. Fico feliz em revisar seu projeto. Ao ao longo do texto farei algumas observações sobre melhorias no código e também farei comentários sobre suas percepções sobre o assunto. Estarei aberto a feedbacks e discussões sobre o tema.\n",
    "\n",
    "**Peço que mantenha e não altere os comentários que eu fizer por aqui para que possamos nos localizar posteriormente, ok?**\n",
    "\n",
    "Mais uma coisa, vamos utilizar um código de cores para você entender os meus feedbacks no seu notebook. Funciona assim:\n",
    "\n",
    "<div class=\"alert alert-block alert-success\">\n",
    "<b> Comentário do revisor: </b> <a class=\"tocSkip\"></a>\n",
    "\n",
    "Sucesso. Tudo foi feito corretamente.\n",
    "</div>\n",
    "\n",
    "<div class=\"alert alert-block alert-warning\">\n",
    "<b>Comentário do revisor: </b> <a class=\"tocSkip\"></a>\n",
    "\n",
    "Alerta não crítco, mas que pode ser corrigido para melhoria geral no seu código/análise\n",
    "</div>\n",
    "\n",
    "<div class=\"alert alert-block alert-danger\">\n",
    "\n",
    "<b>Comentário do revisor: </b> <a class=\"tocSkip\"></a>\n",
    "    \n",
    "Erro que precisa ser consertado, caso contrário seu projeto **não** será aceito.\n",
    "</div>\n",
    "\n",
    "Você pode me responder usando isso:\n",
    "<div class=\"alert alert-block alert-info\">\n",
    "<b>Resposta do Aluno.</b> <a class=\"tocSkip\"></a>\n",
    "</div>"
   ]
  },
  {
   "cell_type": "markdown",
   "metadata": {},
   "source": [
    "1. **Analisar a popularidade e a recepção dos livros**: Este estudo pode visar entender quais livros foram mais bem recebidos pelos usuários, medindo a média das classificações e o número total de avaliações.\n",
    "\n",
    "2. **Identificar tendências de publicação por editora**: O estudo pode incluir uma análise das editoras que lançaram mais livros com mais de 50 páginas, visando entender as tendências de publicação e a produção editorial no mercado.\n",
    "\n",
    "3. **Avaliar a influência dos autores na classificação dos livros**: O objetivo pode ser identificar os autores cujos livros têm a média mais alta de classificação, considerando apenas os livros com um número significativo de avaliações (por exemplo, mais de 50).\n",
    "\n",
    "4. **Entender o comportamento dos usuários na plataforma**: O estudo pode visar compreender o comportamento dos usuários que classificaram mais de 50 livros, analisando a média de avaliações atribuídas por esses usuários.\n",
    "\n",
    "5. **Fornecer insights para decisões editoriais e de marketing**: Com base nos resultados das análises, os insights podem ser usados para tomar decisões relacionadas à publicação de novos livros, promoção de autores ou estratégias de marketing."
   ]
  },
  {
   "cell_type": "code",
   "execution_count": 1,
   "metadata": {},
   "outputs": [],
   "source": [
    "# importar bibliotecas\n",
    "import pandas as pd\n",
    "from sqlalchemy import create_engine\n",
    "db_config = {'user': 'practicum_student', # nome de usuário\n",
    "'pwd': 's65BlTKV3faNIGhmvJVzOqhs', # senha\n",
    "'host': 'rc1b-wcoijxj3yxfsf3fs.mdb.yandexcloud.net',\n",
    "'port': 6432, # porta de conexão\n",
    "'db': 'data-analyst-final-project-db'} # o nome do banco de dados\n",
    "connection_string = 'postgresql://{}:{}@{}:{}/{}'.format(db_config['user'],\n",
    "db_config['pwd'],\n",
    "db_config['host'],\n",
    "db_config['port'],\n",
    "db_config['db'])\n",
    "engine = create_engine(connection_string, connect_args={'sslmode':'require'})"
   ]
  },
  {
   "cell_type": "code",
   "execution_count": 2,
   "metadata": {},
   "outputs": [
    {
     "name": "stdout",
     "output_type": "stream",
     "text": [
      "     book_id  num_reviews  avg_rating\n",
      "0        652            2    4.500000\n",
      "1        273            2    4.500000\n",
      "2         51           12    4.250000\n",
      "3        951            2    4.000000\n",
      "4        839            7    4.285714\n",
      "..       ...          ...         ...\n",
      "995       64           13    4.230769\n",
      "996       55            2    5.000000\n",
      "997      148            7    3.428571\n",
      "998      790            2    3.500000\n",
      "999      828            2    3.000000\n",
      "\n",
      "[1000 rows x 3 columns]\n"
     ]
    }
   ],
   "source": [
    "query = \"\"\"\n",
    "    SELECT b.book_id,\n",
    "           COUNT(r.rating_id) AS num_reviews,\n",
    "           AVG(r.rating) AS avg_rating\n",
    "    FROM books b\n",
    "    LEFT JOIN ratings r ON b.book_id = r.book_id\n",
    "    GROUP BY b.book_id\n",
    "\"\"\"\n",
    "\n",
    "df = pd.read_sql_query(query, engine)\n",
    "\n",
    "print(df)"
   ]
  },
  {
   "cell_type": "markdown",
   "metadata": {},
   "source": [
    "- `book_id`: Identificador único de cada livro.\n",
    "- `num_reviews`: Número total de avaliações para cada livro.\n",
    "- `avg_rating`: Classificação média atribuída a cada livro com base nas avaliações."
   ]
  },
  {
   "cell_type": "code",
   "execution_count": 3,
   "metadata": {},
   "outputs": [
    {
     "name": "stdout",
     "output_type": "stream",
     "text": [
      "Número de livros lançados depois de 1 de janeiro de 2000: 819\n"
     ]
    }
   ],
   "source": [
    "query = \"\"\"\n",
    "    SELECT COUNT(*)\n",
    "    FROM books\n",
    "    WHERE publication_date > '2000-01-01'\n",
    "\"\"\"\n",
    "\n",
    "df = pd.read_sql_query(query, engine)\n",
    "\n",
    "print(\"Número de livros lançados depois de 1 de janeiro de 2000:\", df.iloc[0, 0])"
   ]
  },
  {
   "cell_type": "code",
   "execution_count": 4,
   "metadata": {},
   "outputs": [
    {
     "name": "stdout",
     "output_type": "stream",
     "text": [
      "     book_id  num_reviews  avg_rating\n",
      "0        652            2    4.500000\n",
      "1        273            2    4.500000\n",
      "2         51           12    4.250000\n",
      "3        951            2    4.000000\n",
      "4        839            7    4.285714\n",
      "..       ...          ...         ...\n",
      "995       64           13    4.230769\n",
      "996       55            2    5.000000\n",
      "997      148            7    3.428571\n",
      "998      790            2    3.500000\n",
      "999      828            2    3.000000\n",
      "\n",
      "[1000 rows x 3 columns]\n"
     ]
    }
   ],
   "source": [
    "query = \"\"\"\n",
    "    SELECT b.book_id,\n",
    "           COUNT(r.rating_id) AS num_reviews,\n",
    "           AVG(r.rating) AS avg_rating\n",
    "    FROM books b\n",
    "    LEFT JOIN ratings r ON b.book_id = r.book_id\n",
    "    GROUP BY b.book_id\n",
    "\"\"\"\n",
    "\n",
    "df = pd.read_sql_query(query, engine)\n",
    "\n",
    "print(df)"
   ]
  },
  {
   "cell_type": "markdown",
   "metadata": {},
   "source": [
    "Estes resultados mostram informações sobre os livros, incluindo o `book_id`, o número de avaliações (`num_reviews`) e a classificação média (`avg_rating`). Cada linha representa um livro e suas respectivas estatísticas de avaliação."
   ]
  },
  {
   "cell_type": "code",
   "execution_count": 5,
   "metadata": {},
   "outputs": [
    {
     "name": "stdout",
     "output_type": "stream",
     "text": [
      "   publisher_id      publisher  num_books\n",
      "0           212  Penguin Books         42\n"
     ]
    }
   ],
   "source": [
    "query = \"\"\"\n",
    "    SELECT p.publisher_id, \n",
    "           p.publisher, \n",
    "           COUNT(b.book_id) AS num_books\n",
    "    FROM publishers p\n",
    "    JOIN books b ON p.publisher_id = b.publisher_id\n",
    "    WHERE b.num_pages > 50\n",
    "    GROUP BY p.publisher_id, p.publisher\n",
    "    ORDER BY COUNT(b.book_id) DESC\n",
    "    LIMIT 1\n",
    "\"\"\"\n",
    "\n",
    "df = pd.read_sql_query(query, engine)\n",
    "\n",
    "print(df)"
   ]
  },
  {
   "cell_type": "markdown",
   "metadata": {},
   "source": [
    "Estes resultados mostram que a editora com o ID 212, chamada \"Penguin Books\", lançou um total de 42 livros com mais de 50 páginas. "
   ]
  },
  {
   "cell_type": "code",
   "execution_count": 6,
   "metadata": {},
   "outputs": [
    {
     "name": "stdout",
     "output_type": "stream",
     "text": [
      "   author_id                      author  avg_rating\n",
      "0        236  J.K. Rowling/Mary GrandPré    4.288462\n"
     ]
    }
   ],
   "source": [
    "query = \"\"\"\n",
    "    SELECT a.author_id, \n",
    "           a.author, \n",
    "           AVG(r.rating) AS avg_rating\n",
    "    FROM authors a\n",
    "    JOIN books b ON a.author_id = b.author_id\n",
    "    JOIN ratings r ON b.book_id = r.book_id\n",
    "    GROUP BY a.author_id, a.author\n",
    "    HAVING COUNT(r.rating_id) > 50\n",
    "    ORDER BY AVG(r.rating) DESC\n",
    "    LIMIT 1\n",
    "\"\"\"\n",
    "\n",
    "df = pd.read_sql_query(query, engine)\n",
    "\n",
    "print(df)"
   ]
  },
  {
   "cell_type": "markdown",
   "metadata": {},
   "source": [
    "O autor com o ID 236, que é J.K. Rowling/Mary GrandPré, com uma média de classificação de aproximadamente 4.29. Isso corresponde ao autor com a média mais alta de classificação de livros, considerando apenas os autores com mais de 50 avaliações."
   ]
  },
  {
   "cell_type": "code",
   "execution_count": 7,
   "metadata": {
    "scrolled": true
   },
   "outputs": [
    {
     "name": "stdout",
     "output_type": "stream",
     "text": [
      "Número de revisões por usuário:\n",
      "           username  num_reviews\n",
      "0         zjohnston           14\n",
      "1           jnelson           21\n",
      "2      lewisdesiree           19\n",
      "3     patrickhudson           15\n",
      "4             ulowe           16\n",
      "..              ...          ...\n",
      "155  shermannatalie           24\n",
      "156         dmiller           18\n",
      "157  charlesraymond           16\n",
      "158     isaiahreyes           15\n",
      "159       masonsara           14\n",
      "\n",
      "[160 rows x 2 columns]\n"
     ]
    }
   ],
   "source": [
    "query = \"\"\"\n",
    "SELECT username, COUNT(*) AS num_reviews\n",
    "FROM reviews\n",
    "GROUP BY username;\n",
    "\"\"\"\n",
    "\n",
    "df = pd.read_sql_query(query, engine)\n",
    "\n",
    "print(\"Número de revisões por usuário:\")\n",
    "print(df)"
   ]
  },
  {
   "cell_type": "markdown",
   "metadata": {},
   "source": [
    "Esses resultados mostram o número de revisões feitas por cada usuário na plataforma. Cada linha corresponde a um usuário e ao número de revisões que eles fizeram."
   ]
  },
  {
   "cell_type": "code",
   "execution_count": 8,
   "metadata": {},
   "outputs": [
    {
     "name": "stdout",
     "output_type": "stream",
     "text": [
      "\n",
      "Número total de revisões feitas pelos usuários que classificaram mais de 50 livros:\n",
      "   count\n",
      "0     22\n",
      "1     18\n",
      "2     27\n",
      "3     26\n",
      "4     28\n",
      "5     25\n"
     ]
    }
   ],
   "source": [
    "query_total_reviews = \"\"\"\n",
    "SELECT COUNT(reviews.text)\n",
    "FROM (\n",
    "    SELECT username\n",
    "    FROM ratings\n",
    "    GROUP BY username\n",
    "    HAVING COUNT(rating) > 50\n",
    ") AS users\n",
    "JOIN reviews ON users.username = reviews.username\n",
    "GROUP BY users.username\n",
    "\"\"\"\n",
    "\n",
    "df_total_reviews = pd.read_sql_query(query_total_reviews, engine)\n",
    "\n",
    "print(\"\\nNúmero total de revisões feitas pelos usuários que classificaram mais de 50 livros:\")\n",
    "print(df_total_reviews)"
   ]
  },
  {
   "cell_type": "code",
   "execution_count": 9,
   "metadata": {
    "scrolled": true
   },
   "outputs": [
    {
     "name": "stdout",
     "output_type": "stream",
     "text": [
      "\n",
      "Média do número total de revisões feitas pelos usuários que classificaram mais de 50 livros:\n",
      "count    24.333333\n",
      "dtype: float64\n"
     ]
    }
   ],
   "source": [
    "avg_total_reviews = df_total_reviews.mean()\n",
    "\n",
    "print(\"\\nMédia do número total de revisões feitas pelos usuários que classificaram mais de 50 livros:\")\n",
    "print(avg_total_reviews)"
   ]
  },
  {
   "cell_type": "markdown",
   "metadata": {},
   "source": [
    "<div class=\"alert alert-block alert-warning\">\n",
    "<b> Comentário do revisor: </b> <a class=\"tocSkip\"></a>\n",
    "\n",
    "Correto. O ideal era obter a média já usando SQL. Mas sem problemas.\n",
    "</div>"
   ]
  },
  {
   "cell_type": "markdown",
   "metadata": {},
   "source": [
    "Este resultado indica que, em média, os usuários que classificaram mais de 50 livros têm aproximadamente 24.33 avaliações. Isso fornece uma visão do comportamento dos usuários que são bastante ativos na plataforma de classificação de livros. "
   ]
  },
  {
   "cell_type": "markdown",
   "metadata": {},
   "source": [
    "<div class=\"alert alert-block alert-danger\">\n",
    "<b> Comentário do revisor: </b> <a class=\"tocSkip\"></a>\n",
    "\n",
    "Esta seção diverge com o resultado do gabarito. Veja o código acima como exemplo. A diferença está no >= que você usou\n",
    "</div>"
   ]
  },
  {
   "cell_type": "code",
   "execution_count": 10,
   "metadata": {},
   "outputs": [
    {
     "name": "stdout",
     "output_type": "stream",
     "text": [
      "                       author       avg  count\n",
      "0  J.K. Rowling/Mary GrandPré  4.288462    312\n"
     ]
    }
   ],
   "source": [
    "query = '''\n",
    "SELECT authors.author, AVG(ratings.rating), COUNT(ratings.book_id)\n",
    "FROM authors\n",
    "JOIN books ON authors.author_id = books.author_id\n",
    "JOIN ratings ON books.book_id = ratings.book_id\n",
    "GROUP BY authors.author\n",
    "HAVING COUNT(ratings.book_id) > 50\n",
    "ORDER BY AVG(ratings.rating) DESC\n",
    "LIMIT 1\n",
    "'''# Executando a consulta SQL e armazenando os resultados em um DataFrame\n",
    "\n",
    "\n",
    "df = pd.read_sql_query(query, engine)\n",
    "\n",
    "# Exibindo o resultado\n",
    "print(df)"
   ]
  },
  {
   "cell_type": "markdown",
   "metadata": {},
   "source": [
    "<div class=\"alert alert-block alert-danger\">\n",
    "<b> Comentário do revisor: </b> <a class=\"tocSkip\"></a>\n",
    "\n",
    "A resposta está incorreta. Precisamos primeiro contar quantas reviews por usuário. Veja este código abaixo. A resposta correta é 24.33\n",
    "</div>"
   ]
  },
  {
   "cell_type": "markdown",
   "metadata": {},
   "source": [
    "<div class=\"alert alert-block alert-info\">\n",
    "<b>Resposta do Aluno.</b> <a class=\"tocSkip\"></a> Fiz as correções necessárias para atender aos resultados esperados.\n",
    "</div>"
   ]
  },
  {
   "cell_type": "markdown",
   "metadata": {},
   "source": [
    "<div class=\"alert alert-block alert-success\">\n",
    "<b> Comentário do revisor: </b> <a class=\"tocSkip\"></a>\n",
    "\n",
    "Correto\n",
    "</div>"
   ]
  },
  {
   "cell_type": "code",
   "execution_count": 11,
   "metadata": {},
   "outputs": [
    {
     "name": "stdout",
     "output_type": "stream",
     "text": [
      "   count\n",
      "0     22\n",
      "1     18\n",
      "2     27\n",
      "3     26\n",
      "4     28\n",
      "5     25\n"
     ]
    }
   ],
   "source": [
    "query = \"\"\"\n",
    "\n",
    "     SELECT COUNT(reviews.text)\n",
    "    FROM(\n",
    "        SELECT username\n",
    "        FROM ratings\n",
    "        GROUP BY username\n",
    "        HAVING COUNT(rating) > 50) AS users\n",
    "    JOIN reviews ON users.username = reviews.username\n",
    "    GROUP BY users.username\n",
    "\"\"\"\n",
    "\n",
    "df = pd.read_sql_query(query, engine)\n",
    "\n",
    "print(df)"
   ]
  },
  {
   "cell_type": "code",
   "execution_count": null,
   "metadata": {},
   "outputs": [],
   "source": []
  },
  {
   "cell_type": "markdown",
   "metadata": {},
   "source": [
    "1. **Número de livros lançados depois de 1 de janeiro de 2000:** Com base na contagem realizada, foram lançados 819 livros após 1 de janeiro de 2000. Isso pode indicar uma tendência de produção editorial mais recente ou uma expansão do mercado de livros após essa data.\n",
    "\n",
    "2. **Número de avaliações e classificação média para cada livro:** Os dados mostram informações sobre os livros, incluindo o número de avaliações e a classificação média atribuída pelos usuários. Essas estatísticas podem ser úteis para avaliar a popularidade e a recepção de cada livro na plataforma.\n",
    "\n",
    "3. **Editora que lançou o maior número de livros com mais de 50 páginas:** Com base na contagem realizada, a editora \"Penguin Books\" lançou o maior número de livros com mais de 50 páginas, totalizando 42 livros. Isso pode indicar uma estratégia editorial focada em publicar livros mais substanciais.\n",
    "\n",
    "4. **Autor com a média mais alta de classificação de livros (considerando apenas livros com pelo menos 50 classificações):** O autor Diana Gabaldon tem a média mais alta de classificação de livros, com uma média de 4.29. Isso sugere que os livros de J.K. Rowling/Mary GrandPré são bem recebidos pelos leitores, especialmente considerando que a análise considerou apenas livros com pelo menos 50 classificações.\n",
    "\n",
    "5. **Número médio de avaliações entre usuários que classificaram mais do que 50 livros:** Em média, os usuários que classificaram mais de 50 livros têm aproximadamente 24.33 avaliações. Isso fornece uma visão do comportamento dos usuários mais ativos na plataforma de classificação de livros."
   ]
  },
  {
   "cell_type": "markdown",
   "metadata": {},
   "source": [
    "\n",
    "<div class=\"alert alert-block alert-success\">\n",
    "<b>Comentário Geral do Revisor</b> <a class=\"tocSkip\"></a>\n",
    "\n",
    "Obrigado por enviar seu projeto. \n",
    "    \n",
    "Parabéns, você fez um bom trabalho.\n",
    "\n",
    "Como pontos fortes do projeto, destaco:\n",
    "- SQL simples\n",
    "- Uso adequado dos recursos da lição\n",
    "\n",
    "    \n",
    "<span class=\"text-danger\">Porém, há espaço para melhorias conforme os itens apontados anteriormente. Destaco os  pontos a seguir: </span>\n",
    " * <span class=\"text-danger\"> Há dois pequenos erros. Deixei dicas</span>\n",
    "\n",
    "\n",
    "Portanto, sugiro que você corrija os pontos indicados.\n",
    "    \n",
    "Se você tiver alguma dúvida sobre de algo que você não tenha entendido, sinta-se à vontade para perguntar ao tutor ou deixar um comentário em **azul** para que, na próxima iteração, eu possa responder.\n",
    "\n",
    "Conte conosco. Lembre-se de que você pode tirar dúvidas com revisores usando os comentários ou buscar ajuda de um tutor.\n",
    "Bom trabalho.\n",
    "</div>"
   ]
  },
  {
   "cell_type": "markdown",
   "metadata": {},
   "source": [
    "\n",
    "<div class=\"alert alert-block alert-success\">\n",
    "<b>Comentário Geral do Revisor</b> <a class=\"tocSkip\"></a>\n",
    "\n",
    "Tudo certo agora. Parabéns pela aprovação.\n",
    "</div>"
   ]
  }
 ],
 "metadata": {
  "kernelspec": {
   "display_name": "Python 3 (ipykernel)",
   "language": "python",
   "name": "python3"
  },
  "language_info": {
   "codemirror_mode": {
    "name": "ipython",
    "version": 3
   },
   "file_extension": ".py",
   "mimetype": "text/x-python",
   "name": "python",
   "nbconvert_exporter": "python",
   "pygments_lexer": "ipython3",
   "version": "3.9.5"
  },
  "toc": {
   "base_numbering": 1,
   "nav_menu": {},
   "number_sections": true,
   "sideBar": true,
   "skip_h1_title": true,
   "title_cell": "Table of Contents",
   "title_sidebar": "Contents",
   "toc_cell": false,
   "toc_position": {},
   "toc_section_display": true,
   "toc_window_display": false
  }
 },
 "nbformat": 4,
 "nbformat_minor": 2
}
